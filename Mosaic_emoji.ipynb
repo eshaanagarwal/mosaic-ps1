{
  "cells": [
    {
      "cell_type": "code",
      "execution_count": null,
      "metadata": {
        "id": "puSIYp43fI-O"
      },
      "outputs": [],
      "source": [
        "import numpy as np\n",
        "import pandas as pd\n",
        "import matplotlib.pyplot as plt\n",
        "import cv2\n",
        "import tensorflow as tf\n",
        "from google.colab.patches import cv2_imshow\n",
        "import os"
      ]
    },
    {
      "cell_type": "code",
      "execution_count": null,
      "metadata": {
        "colab": {
          "base_uri": "https://localhost:8080/"
        },
        "id": "JV5_qpr0fN7D",
        "outputId": "93251548-acf0-43e9-ef77-b82e175d8cbd"
      },
      "outputs": [
        {
          "name": "stdout",
          "output_type": "stream",
          "text": [
            "/content/drive/MyDrive/mosaic\n"
          ]
        }
      ],
      "source": [
        "%cd /content/drive/MyDrive/mosaic/\n",
        "root = \"/content/drive/MyDrive/mosaic/\""
      ]
    },
    {
      "cell_type": "code",
      "execution_count": null,
      "metadata": {
        "id": "vr1KWLI-fZ9J"
      },
      "outputs": [],
      "source": [
        "data_dir = root + \"emoji_dataset/\""
      ]
    },
    {
      "cell_type": "code",
      "execution_count": null,
      "metadata": {
        "id": "wTWeuh6rgo-u"
      },
      "outputs": [],
      "source": [
        "batch_size = 32"
      ]
    },
    {
      "cell_type": "code",
      "execution_count": null,
      "metadata": {
        "id": "i3QMFgIEOlvl"
      },
      "outputs": [],
      "source": [
        "def random_dots(img, max_dots=20):\n",
        "  n = tf.random.uniform(shape=[1],minval=0,maxval=max_dots,dtype=tf.dtypes.int32).numpy()\n",
        "  x = tf.random.uniform(shape=n,minval=0,maxval=img.shape[0]+1,dtype=tf.dtypes.int32).numpy()\n",
        "  y = tf.random.uniform(shape=n,minval=0,maxval=img.shape[1]+1,dtype=tf.dtypes.int32).numpy()\n",
        "  for i in range(len(x)):\n",
        "      thick = tf.random.uniform(shape=[1],minval=0,maxval=4,dtype=tf.dtypes.int32).numpy()[0]\n",
        "      img = cv2.circle(img, (x[i],y[i]), thick, (255,255,255), -1)\n",
        "  return img\n",
        "\n",
        "def dilate(img):\n",
        "  ker = int(tf.random.uniform(shape=[1],minval=3,maxval=11,dtype=tf.dtypes.int32).numpy()[0])\n",
        "  it = int(tf.random.uniform(shape=[1],minval=1,maxval=4,dtype=tf.dtypes.int32).numpy()[0])\n",
        "  img = cv2.dilate(img, np.ones((ker,ker),np.uint8),it)\n",
        "  return img\n",
        "\n",
        "def my_lambda_func(x):\n",
        "  return tf.py_function(random_dots, [x], tf.float32)"
      ]
    },
    {
      "cell_type": "code",
      "execution_count": null,
      "metadata": {
        "colab": {
          "base_uri": "https://localhost:8080/",
          "height": 72
        },
        "id": "414QQtTfcdnf",
        "outputId": "7e35f3b5-55b8-42df-c441-947203d8b899"
      },
      "outputs": [
        {
          "data": {
            "application/vnd.google.colaboratory.intrinsic+json": {
              "type": "string"
            },
            "text/plain": [
              "'i = 0\\nfor dir1 in os.listdir(data_dir):\\n  for dir2 in os.listdir(os.path.join(data_dir, dir1)):\\n    img_path = os.path.join(data_dir, dir1, dir2)\\n    try:\\n      img = 255 - cv2.imread(img_path, cv2.IMREAD_GRAYSCALE)\\n      img = 255 - random_dots(img)\\n      cv2.imwrite(os.path.join(data_dir,dir1,\"aug\"+str(i)+\".jpg\"), img)\\n      i+=1\\n    except:\\n      pass'"
            ]
          },
          "execution_count": 6,
          "metadata": {},
          "output_type": "execute_result"
        }
      ],
      "source": [
        "'''i = 0\n",
        "for dir1 in os.listdir(data_dir):\n",
        "  for dir2 in os.listdir(os.path.join(data_dir, dir1)):\n",
        "    img_path = os.path.join(data_dir, dir1, dir2)\n",
        "    try:\n",
        "      img = 255 - cv2.imread(img_path, cv2.IMREAD_GRAYSCALE)\n",
        "      img = 255 - random_dots(img)\n",
        "      cv2.imwrite(os.path.join(data_dir,dir1,\"aug\"+str(i)+\".jpg\"), img)\n",
        "      i+=1\n",
        "    except:\n",
        "      pass'''"
      ]
    },
    {
      "cell_type": "code",
      "execution_count": null,
      "metadata": {
        "id": "zaRCDBNtkVwN"
      },
      "outputs": [],
      "source": [
        "'''i = 0\n",
        "for dir1 in os.listdir(data_dir):\n",
        "  for dir2 in os.listdir(os.path.join(data_dir, dir1)):\n",
        "    img_path = os.path.join(data_dir, dir1, dir2)\n",
        "    try:\n",
        "      img = 255 - cv2.imread(img_path, cv2.IMREAD_GRAYSCALE)\n",
        "      img = 255 - dilate(img)\n",
        "      cv2.imwrite(os.path.join(data_dir,dir1,\"dil\"+str(i)+\".jpg\"), img)\n",
        "      i+=1\n",
        "    except:\n",
        "      pass'''"
      ]
    },
    {
      "cell_type": "code",
      "execution_count": null,
      "metadata": {
        "colab": {
          "base_uri": "https://localhost:8080/"
        },
        "id": "3Sd2g7zgg-eU",
        "outputId": "66ad1afb-329d-42bd-bdf9-f2fb304d7536"
      },
      "outputs": [
        {
          "name": "stdout",
          "output_type": "stream",
          "text": [
            "Found 1416 files belonging to 7 classes.\n",
            "Using 1133 files for training.\n"
          ]
        }
      ],
      "source": [
        "train_ds = tf.keras.utils.image_dataset_from_directory(\n",
        "    data_dir,\n",
        "    validation_split=0.2,\n",
        "    seed = 69,\n",
        "    subset=\"training\",\n",
        "    image_size = (300,300),\n",
        "    batch_size=batch_size\n",
        ")"
      ]
    },
    {
      "cell_type": "code",
      "execution_count": null,
      "metadata": {
        "colab": {
          "base_uri": "https://localhost:8080/"
        },
        "id": "ehwaB1ROhFfj",
        "outputId": "71e1d9ee-756d-41cd-a545-ca3d80240f75"
      },
      "outputs": [
        {
          "name": "stdout",
          "output_type": "stream",
          "text": [
            "Found 1416 files belonging to 7 classes.\n",
            "Using 283 files for validation.\n"
          ]
        }
      ],
      "source": [
        "val_ds = tf.keras.utils.image_dataset_from_directory(\n",
        "    data_dir,\n",
        "    validation_split=0.2,\n",
        "    subset = \"validation\",\n",
        "    seed = 69,\n",
        "    image_size = (300,300),\n",
        "    batch_size=batch_size\n",
        ")"
      ]
    },
    {
      "cell_type": "code",
      "execution_count": null,
      "metadata": {
        "id": "Gwco0M7d-TXg"
      },
      "outputs": [],
      "source": [
        "def binarize(img, label, thresh=100):\n",
        "  return tf.where(img > thresh, 255, 0), label"
      ]
    },
    {
      "cell_type": "code",
      "execution_count": null,
      "metadata": {
        "id": "QsjV9zxklGRC"
      },
      "outputs": [],
      "source": [
        "def rgb2gray(img, label):\n",
        "  img = 255  - tf.image.rgb_to_grayscale(img)\n",
        "  return img, label"
      ]
    },
    {
      "cell_type": "code",
      "execution_count": null,
      "metadata": {
        "id": "x1qviTWjlhoX"
      },
      "outputs": [],
      "source": [
        "train_ds = train_ds.map(rgb2gray).map(binarize).shuffle(10000)\n",
        "val_ds = val_ds.map(rgb2gray).map(binarize).shuffle(10000)"
      ]
    },
    {
      "cell_type": "code",
      "execution_count": null,
      "metadata": {
        "colab": {
          "background_save": true
        },
        "id": "_tkRMZ5XTbho"
      },
      "outputs": [],
      "source": [
        "x = None\n",
        "for i, _ in train_ds.take(1):\n",
        "  x = i"
      ]
    },
    {
      "cell_type": "code",
      "execution_count": null,
      "metadata": {
        "id": "q5qQ3UQeUh7V"
      },
      "outputs": [],
      "source": [
        "cv2_im"
      ]
    },
    {
      "cell_type": "code",
      "execution_count": null,
      "metadata": {
        "id": "SptdAWqQ4D5R"
      },
      "outputs": [],
      "source": [
        "augmentation = tf.keras.Sequential(\n",
        "    [\n",
        "     tf.keras.layers.RandomRotation((-0.2,0.2), fill_mode='constant', fill_value=0),\n",
        "     tf.keras.layers.RandomZoom(height_factor=(-0.3,0.3), width_factor=(-0.3,0.3), fill_mode='constant', fill_value=0),\n",
        "     tf.keras.layers.GaussianNoise(1)\n",
        "    ]\n",
        ")"
      ]
    },
    {
      "cell_type": "code",
      "execution_count": null,
      "metadata": {
        "id": "n_ZT2Hoil1Bd"
      },
      "outputs": [],
      "source": [
        "inp = tf.keras.layers.Input(shape=(300,300,1))\n",
        "aug = augmentation(inp)\n",
        "conv1 = tf.keras.layers.Conv2D(filters=32, kernel_size=11, strides=4,activation='relu')(aug)\n",
        "mp1 = tf.keras.layers.MaxPooling2D(pool_size=3, strides=2)(conv1)\n",
        "conv2 = tf.keras.layers.Conv2D(filters=64, kernel_size=5, padding='same',activation='relu')(mp1)\n",
        "mp2 = tf.keras.layers.MaxPooling2D(pool_size=3, strides=2)(conv2)\n",
        "conv3 = tf.keras.layers.Conv2D(128, kernel_size=3, activation='relu')(mp2)\n",
        "mp3 = tf.keras.layers.MaxPooling2D(pool_size=3, strides=2)(conv3)\n",
        "dp = tf.keras.layers.Dropout(0.5)(mp3)\n",
        "flat = tf.keras.layers.Flatten()(dp)\n",
        "fc1 = tf.keras.layers.Dense(256, activation='relu')(flat)\n",
        "fc2 = tf.keras.layers.Dense(64, activation='relu')(fc1)\n",
        "out = tf.keras.layers.Dense(7, activation='softmax')(fc2)"
      ]
    },
    {
      "cell_type": "code",
      "execution_count": null,
      "metadata": {
        "id": "TREfWYtfnZs4"
      },
      "outputs": [],
      "source": [
        "model = tf.keras.Model(inputs=inp, outputs=out)"
      ]
    },
    {
      "cell_type": "code",
      "execution_count": null,
      "metadata": {
        "id": "fiSJo7sgne1n"
      },
      "outputs": [],
      "source": [
        "loss_fn = tf.losses.SparseCategoricalCrossentropy(from_logits=False)\n",
        "model.compile(optimizer='adam', loss=loss_fn)"
      ]
    },
    {
      "cell_type": "code",
      "execution_count": null,
      "metadata": {
        "colab": {
          "base_uri": "https://localhost:8080/"
        },
        "id": "AwDTxwTXngHx",
        "outputId": "8f63b0a3-6084-4960-e4d3-70a326b781d7"
      },
      "outputs": [
        {
          "name": "stdout",
          "output_type": "stream",
          "text": [
            "Epoch 1/7\n",
            "36/36 [==============================] - 392s 9s/step - loss: 6.9892 - val_loss: 1.6065\n",
            "Epoch 2/7\n",
            "36/36 [==============================] - 37s 1s/step - loss: 1.3383 - val_loss: 0.8917\n",
            "Epoch 3/7\n",
            "36/36 [==============================] - 37s 1s/step - loss: 0.9434 - val_loss: 0.5975\n",
            "Epoch 4/7\n",
            "36/36 [==============================] - 37s 1s/step - loss: 0.7076 - val_loss: 0.4464\n",
            "Epoch 5/7\n",
            "36/36 [==============================] - 37s 1s/step - loss: 0.5968 - val_loss: 0.2977\n",
            "Epoch 6/7\n",
            "36/36 [==============================] - 37s 1s/step - loss: 0.4959 - val_loss: 0.2084\n",
            "Epoch 7/7\n",
            "36/36 [==============================] - 37s 997ms/step - loss: 0.4447 - val_loss: 0.2000\n"
          ]
        },
        {
          "data": {
            "text/plain": [
              "<keras.callbacks.History at 0x7fd8b0aeb290>"
            ]
          },
          "execution_count": 16,
          "metadata": {},
          "output_type": "execute_result"
        }
      ],
      "source": [
        "model.fit(train_ds, validation_data=val_ds, epochs=7)"
      ]
    },
    {
      "cell_type": "code",
      "execution_count": null,
      "metadata": {
        "colab": {
          "base_uri": "https://localhost:8080/",
          "height": 305
        },
        "id": "fa2O4UX4phVo",
        "outputId": "820525bc-cb29-4596-a3d5-e4092ce9a7dd"
      },
      "outputs": [
        {
          "name": "stdout",
          "output_type": "stream",
          "text": [
            "actual:  4 \n",
            "predicted:  4\n"
          ]
        },
        {
          "data": {
            "image/png": "[encoded data removed]",
            "text/plain": [
              "<Figure size 432x288 with 1 Axes>"
            ]
          },
          "metadata": {},
          "output_type": "display_data"
        }
      ],
      "source": [
        "for img,real in val_ds.take(1):\n",
        "  i = 0\n",
        "  pred = np.argmax(model.predict(img),-1)\n",
        "  plt.imshow(img[i].numpy().squeeze(-1))\n",
        "  print('actual: ',real.numpy()[i],'\\npredicted: ',pred[i])"
      ]
    },
    {
      "cell_type": "code",
      "execution_count": null,
      "metadata": {
        "colab": {
          "base_uri": "https://localhost:8080/"
        },
        "id": "JmKRvuXnqfRj",
        "outputId": "4932b0b2-bad2-4e87-d203-d4cb800876ce"
      },
      "outputs": [
        {
          "name": "stdout",
          "output_type": "stream",
          "text": [
            "Accuracy:  0.93286216\n"
          ]
        }
      ],
      "source": [
        "m = tf.metrics.Accuracy()\n",
        "for img, real in val_ds:\n",
        "  pred = np.argmax(model.predict(img),-1)\n",
        "  m.update_state(real, pred)\n",
        "print(\"Accuracy: \",m.result().numpy())"
      ]
    },
    {
      "cell_type": "code",
      "execution_count": null,
      "metadata": {
        "colab": {
          "base_uri": "https://localhost:8080/"
        },
        "id": "IswksmC1ShAS",
        "outputId": "06875857-7806-4511-eef3-ea793d4a8d2d"
      },
      "outputs": [
        {
          "name": "stdout",
          "output_type": "stream",
          "text": [
            "INFO:tensorflow:Assets written to: /content/drive/MyDrive/mosaic/emoji_model/assets\n"
          ]
        }
      ],
      "source": [
        "model.save(root + \"emoji_model/\")"
      ]
    },
    {
      "cell_type": "code",
      "execution_count": null,
      "metadata": {
        "id": "Rv80mKBXd_Ti"
      },
      "outputs": [],
      "source": [
        ""
      ]
    }
  ],
  "metadata": {
    "colab": {
      "collapsed_sections": [],
      "name": "Mosaic_emoji.ipynb",
      "provenance": []
    },
    "kernelspec": {
      "display_name": "Python 3",
      "name": "python3"
    },
    "language_info": {
      "name": "python"
    }
  },
  "nbformat": 4,
  "nbformat_minor": 0
}