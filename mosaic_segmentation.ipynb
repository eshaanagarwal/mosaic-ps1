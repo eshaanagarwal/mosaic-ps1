{
  "cells": [
    {
      "cell_type": "code",
      "execution_count": null,
      "metadata": {
        "id": "yf-G-MLj7-px"
      },
      "outputs": [],
      "source": [
        "import numpy as np\n",
        "import matplotlib.pyplot as plt\n",
        "import cv2\n",
        "from google.colab.patches import cv2_imshow\n",
        "import tensorflow as tf"
      ]
    },
    {
      "cell_type": "code",
      "execution_count": null,
      "metadata": {
        "colab": {
          "base_uri": "https://localhost:8080/"
        },
        "id": "_JgDbRcW8QPv",
        "outputId": "32a59d68-6453-44e7-bf31-2ed21398da5e"
      },
      "outputs": [
        {
          "name": "stdout",
          "output_type": "stream",
          "text": [
            "/content/drive/MyDrive/mosaic\n"
          ]
        }
      ],
      "source": [
        "%cd /content/drive/MyDrive/mosaic/\n",
        "root = \"/content/drive/MyDrive/mosaic/\""
      ]
    },
    {
      "cell_type": "code",
      "execution_count": null,
      "metadata": {
        "id": "ADrb6YWX8bCO"
      },
      "outputs": [],
      "source": [
        "img1 = cv2.imread(root + 'test_images/test1.jpg')\n",
        "img2 = cv2.imread(root + 'test_images/test2.jpg')\n",
        "img3 = cv2.imread(root + 'test_images/test3.jpg')\n",
        "img4 = cv2.imread(root + 'test_images/test4.jpg')\n",
        "img5 = cv2.imread(root + 'test_images/test5.jpg')\n",
        "img6 = cv2.imread(root + 'test_images/test6.jpg')\n",
        "img7 = cv2.imread(root + 'test_images/test7.jpg')\n",
        "img8 = cv2.imread(root + 'test_images/test8.jpeg')\n",
        "img9 = cv2.imread(root + 'test_images/test9.jpeg')"
      ]
    },
    {
      "cell_type": "code",
      "execution_count": null,
      "metadata": {
        "id": "0LcDhWGW8xz8"
      },
      "outputs": [],
      "source": [
        "def preprocess_img(img, thresh=1):\n",
        "  # blur\n",
        "  new_img = cv2.GaussianBlur(img, (3,3),0)\n",
        "\n",
        "  # shadow removal\n",
        "  rgb_planes = cv2.split(new_img)\n",
        "  result_norm_planes = []    \n",
        "  clahe = cv2.createCLAHE(clipLimit=2.0, tileGridSize=(8, 8))\n",
        "  for plane in rgb_planes:\n",
        "    dilated_img = cv2.dilate(plane,np.ones((7,7),np.uint8))\n",
        "    bg_img = cv2.medianBlur(dilated_img, 21)\n",
        "    diff_img = 255 - cv2.absdiff(plane,bg_img)\n",
        "    norm_img = cv2.normalize(diff_img,None,alpha=0,beta=255,norm_type = cv2.NORM_MINMAX, dtype = cv2.CV_8UC1)\n",
        "    norm_img = clahe.apply(norm_img)\n",
        "    result_norm_planes.append(norm_img)\n",
        "  new_img = cv2.merge(result_norm_planes)\n",
        "  new_img = cv2.cvtColor(new_img,cv2.COLOR_BGR2GRAY)\n",
        "\n",
        "  # binarization\n",
        "  __,new_img = cv2.threshold(new_img,170,255,cv2.THRESH_BINARY_INV)\n",
        "  kernel = np.ones((3,3),np.uint8)\n",
        "  new_img = cv2.dilate(new_img,kernel,iterations=2)\n",
        "  new_img = cv2.erode(new_img,kernel,iterations=1)\n",
        "\n",
        "  # dot removal\n",
        "  nlabels, labels, stats, centroids = cv2.connectedComponentsWithStats(new_img, None, None, None, 8, cv2.CV_32S)\n",
        "  areas = stats[1:,cv2.CC_STAT_AREA]\n",
        "  result = np.zeros((labels.shape), np.uint8)\n",
        "  for i in range(0, nlabels - 1):\n",
        "      if areas[i]/np.sum(areas) >= thresh/100:\n",
        "          result[labels == i + 1] = 255\n",
        "  return result"
      ]
    },
    {
      "cell_type": "code",
      "execution_count": null,
      "metadata": {
        "colab": {
          "base_uri": "https://localhost:8080/",
          "height": 279
        },
        "id": "P8dQ9UNGB83H",
        "outputId": "a48f698a-2669-4529-8486-31efbd153eea"
      },
      "outputs": [
        {
          "data": {
            "image/png": "[encoded data removed]",
            "text/plain": [
              "<PIL.Image.Image image mode=L size=856x262 at 0x7F07A6E0EF90>"
            ]
          },
          "metadata": {},
          "output_type": "display_data"
        }
      ],
      "source": [
        "cv2_imshow(preprocess_img(img9))"
      ]
    },
    {
      "cell_type": "code",
      "execution_count": null,
      "metadata": {
        "id": "98cLcSg98zGp"
      },
      "outputs": [],
      "source": [
        "img1 = preprocess_img(img1)\n",
        "img2 = preprocess_img(img2)\n",
        "img3 = preprocess_img(img3)\n",
        "img4 = preprocess_img(img4)\n",
        "img5 = preprocess_img(img5)\n",
        "img6 = preprocess_img(img6)\n",
        "img7 = preprocess_img(img7)\n",
        "img8 = preprocess_img(img8)\n",
        "img9 = preprocess_img(img9)"
      ]
    },
    {
      "cell_type": "code",
      "execution_count": null,
      "metadata": {
        "id": "YCh0S0YqBbsq"
      },
      "outputs": [],
      "source": [
        "def crop_captcha(test, thresh=0.1):\n",
        "  u = np.where((np.sum(test, axis=1)/np.sum(test))>thresh/100)[0].min()\n",
        "  d = np.where((np.sum(test, axis=1)/np.sum(test))>thresh/100)[0].max()\n",
        "  l = np.where((np.sum(test, axis=0)/np.sum(test))>thresh/100)[0].min()\n",
        "  r = np.where((np.sum(test, axis=0)/np.sum(test))>thresh/100)[0].max()\n",
        "  return test[u:d,l:r]"
      ]
    },
    {
      "cell_type": "code",
      "execution_count": null,
      "metadata": {
        "colab": {
          "base_uri": "https://localhost:8080/",
          "height": 185
        },
        "id": "GJ9cbcz3hxbm",
        "outputId": "2736afaa-2dfd-4b37-a595-fb5e66ee206f"
      },
      "outputs": [
        {
          "data": {
            "image/png": "[encoded data removed]",
            "text/plain": [
              "<PIL.Image.Image image mode=L size=702x168 at 0x7F07A6DC2750>"
            ]
          },
          "metadata": {},
          "output_type": "display_data"
        }
      ],
      "source": [
        "cv2_imshow(crop_captcha(img9))"
      ]
    },
    {
      "cell_type": "code",
      "execution_count": null,
      "metadata": {
        "id": "SPPnQ2BC9wVT"
      },
      "outputs": [],
      "source": [
        "img1 = crop_captcha(img1)\n",
        "img2 = crop_captcha(img2)\n",
        "img3 = crop_captcha(img3)\n",
        "img4 = crop_captcha(img4)\n",
        "img5 = crop_captcha(img5)\n",
        "img6 = crop_captcha(img6)\n",
        "img7 = crop_captcha(img7)\n",
        "img8 = crop_captcha(img8)\n",
        "img9 = crop_captcha(img9)"
      ]
    },
    {
      "cell_type": "code",
      "execution_count": null,
      "metadata": {
        "id": "CFMBjwvfpqZV"
      },
      "outputs": [],
      "source": [
        "def segment(img, thresh1=0.001, thresh2=1.2):\n",
        "  test = img.copy()\n",
        "  arr = np.where((np.sum(test, axis=0)/np.sum(test)) < thresh1/100)[0]\n",
        "  i = 0\n",
        "  l,r = list(), list()\n",
        "  while(i<len(arr)):\n",
        "    l.append(arr[i])\n",
        "    i+=1\n",
        "    while(i<(len(arr)-1) and arr[i+1]==arr[i]+1):\n",
        "      i+=1\n",
        "    r.append(arr[i])\n",
        "    i+=1\n",
        "  i = 0\n",
        "  while(i<len(l)-1):\n",
        "    if ((l[i+1]-r[i])/test.shape[1]) < thresh2/100:\n",
        "      l.pop(i+1)\n",
        "      r.pop(i)\n",
        "    else:\n",
        "      i+=1\n",
        "  ret = list()\n",
        "  prev = 0\n",
        "  for i in range(len(l)):\n",
        "    x = (l[i]+r[i])//2\n",
        "    ret.append(test[:, prev:x])\n",
        "    prev = x\n",
        "  ret.append(test[:, prev:])\n",
        "  return ret"
      ]
    },
    {
      "cell_type": "code",
      "execution_count": null,
      "metadata": {
        "id": "iN76TrRo7lWB"
      },
      "outputs": [],
      "source": [
        "def add_border(img, shape):\n",
        "  if img.shape[0] > img.shape[1]:\n",
        "    x = (img.shape[0]-img.shape[1])\n",
        "    y = x//2\n",
        "    img = cv2.copyMakeBorder(\n",
        "        img,\n",
        "        top = 10,\n",
        "        bottom = 10,\n",
        "        left = y+10,\n",
        "        right = x-y+10,\n",
        "        borderType = cv2.BORDER_CONSTANT,\n",
        "        value = 0 \n",
        "    )\n",
        "  else:\n",
        "    x = (img.shape[1]-img.shape[0])\n",
        "    y = x//2\n",
        "    img = cv2.copyMakeBorder(\n",
        "        img,\n",
        "        top = y+10,\n",
        "        bottom = x-y+10,\n",
        "        left = 10,\n",
        "        right = 10,\n",
        "        borderType = cv2.BORDER_CONSTANT,\n",
        "        value = 0 \n",
        "    )\n",
        "  img = cv2.resize(img, (shape,shape), interpolation=cv2.INTER_CUBIC)#\n",
        "  return img"
      ]
    },
    {
      "cell_type": "code",
      "execution_count": null,
      "metadata": {
        "colab": {
          "base_uri": "https://localhost:8080/",
          "height": 844
        },
        "id": "Tb0oxrD-fJYh",
        "outputId": "942b54cf-fe0c-4952-db23-a0243f9fbb40"
      },
      "outputs": [
        {
          "data": {
            "image/png": "[encoded data removed]",
            "text/plain": [
              "<PIL.Image.Image image mode=L size=110x239 at 0x7F07A6E0E7D0>"
            ]
          },
          "metadata": {},
          "output_type": "display_data"
        },
        {
          "name": "stdout",
          "output_type": "stream",
          "text": [
            "\n",
            "\n"
          ]
        },
        {
          "data": {
            "image/png": "[encoded data removed]",
            "text/plain": [
              "<PIL.Image.Image image mode=L size=321x239 at 0x7F07A6E0E050>"
            ]
          },
          "metadata": {},
          "output_type": "display_data"
        },
        {
          "name": "stdout",
          "output_type": "stream",
          "text": [
            "\n",
            "\n"
          ]
        },
        {
          "data": {
            "image/png": "[encoded data removed]",
            "text/plain": [
              "<PIL.Image.Image image mode=L size=115x239 at 0x7F07A6E0E1D0>"
            ]
          },
          "metadata": {},
          "output_type": "display_data"
        },
        {
          "name": "stdout",
          "output_type": "stream",
          "text": [
            "\n",
            "\n"
          ]
        }
      ],
      "source": [
        "img_list = list()\n",
        "for img in segment(img8,thresh2=3):\n",
        "  img_list.append(img)\n",
        "  cv2_imshow(img)\n",
        "  print('\\n')"
      ]
    },
    {
      "cell_type": "code",
      "execution_count": null,
      "metadata": {
        "id": "4ypLWvn06B13"
      },
      "outputs": [],
      "source": [
        "def morph(img, ker1=3,ker2=7,it1=1,it2=3):\n",
        "  img = cv2.dilate(img, np.ones((ker1,ker1),np.uint8), it1)\n",
        "  img = cv2.erode(img, np.ones((ker2,ker2), np.uint8), it2)\n",
        "  return img"
      ]
    },
    {
      "cell_type": "code",
      "execution_count": null,
      "metadata": {
        "id": "TWAR-Kq3kk5R"
      },
      "outputs": [],
      "source": [
        "def centre_img(test):\n",
        "  M = cv2.moments(test, binaryImage=True)\n",
        "  if M[\"m00\"] != 0:\n",
        "    cX = int(M[\"m10\"] / M[\"m00\"])\n",
        "    cY = int(M[\"m01\"] / M[\"m00\"])\n",
        "  else:\n",
        "    cX, cY = 0, 0\n",
        "  height, width = test.shape[:2]\n",
        "  translation_matrix = np.array([\n",
        "    [1, 0, width//2-cX],\n",
        "    [0, 1, height//2-cY],\n",
        "  ], dtype=np.float32)\n",
        "  translated_image = cv2.warpAffine(src=test, M = translation_matrix, dsize=(width, height))\n",
        "  return translated_image"
      ]
    },
    {
      "cell_type": "code",
      "execution_count": null,
      "metadata": {
        "id": "MDuC10P6e2m_"
      },
      "outputs": [],
      "source": [
        "model = tf.keras.models.load_model(root+'emoji_model')"
      ]
    },
    {
      "cell_type": "code",
      "execution_count": null,
      "metadata": {
        "colab": {
          "base_uri": "https://localhost:8080/",
          "height": 256
        },
        "id": "dY-exbiN78Vm",
        "outputId": "fff90ce4-79d0-4b31-880a-93139860ee77"
      },
      "outputs": [
        {
          "data": {
            "image/png": "[encoded data removed]",
            "text/plain": [
              "<PIL.Image.Image image mode=L size=546x239 at 0x7F07A1916910>"
            ]
          },
          "metadata": {},
          "output_type": "display_data"
        }
      ],
      "source": [
        "cv2_imshow(img8)"
      ]
    },
    {
      "cell_type": "code",
      "execution_count": null,
      "metadata": {
        "colab": {
          "background_save": true,
          "base_uri": "https://localhost:8080/",
          "height": 269
        },
        "id": "7mETf5poCCzk",
        "outputId": "5e750cb4-f14b-4fd5-f5a3-7070b274e213"
      },
      "outputs": [
        {
          "data": {
            "image/png": "[encoded data removed]",
            "text/plain": [
              "<Figure size 432x288 with 1 Axes>"
            ]
          },
          "metadata": {},
          "output_type": "display_data"
        }
      ],
      "source": [
        "test = (add_border(segment(img9, thresh2=3)[1], 300))\n",
        "test = centre_img(test)\n",
        "plt.imshow(test)\n",
        "test = np.expand_dims(test.astype(np.float32)/255, [-1,0])"
      ]
    },
    {
      "cell_type": "code",
      "execution_count": null,
      "metadata": {
        "colab": {
          "base_uri": "https://localhost:8080/"
        },
        "id": "uUKOnD_dfGYk",
        "outputId": "9b5aaed4-3f2d-4582-d7f5-664b5fb3cf0f"
      },
      "outputs": [
        {
          "data": {
            "text/plain": [
              "array([[0.15280452, 0.14552926, 0.13814287, 0.14370745, 0.1360042 ,\n",
              "        0.14297928, 0.14083241]], dtype=float32)"
            ]
          },
          "execution_count": 42,
          "metadata": {},
          "output_type": "execute_result"
        }
      ],
      "source": [
        "pred = model.predict(test)\n",
        "pred"
      ]
    },
    {
      "cell_type": "code",
      "execution_count": null,
      "metadata": {
        "colab": {
          "background_save": true
        },
        "id": "6Q8aMNir38x2",
        "outputId": "a8058adc-db74-46ee-9647-0537f3e7b490"
      },
      "outputs": [
        {
          "data": {
            "text/plain": [
              "3"
            ]
          },
          "execution_count": null,
          "metadata": {},
          "output_type": "execute_result"
        }
      ],
      "source": [
        "np.argmax(pred)"
      ]
    },
    {
      "cell_type": "code",
      "execution_count": null,
      "metadata": {
        "id": "o5hqCnfF7ji-"
      },
      "outputs": [],
      "source": [
        ""
      ]
    }
  ],
  "metadata": {
    "colab": {
      "collapsed_sections": [],
      "name": "mosaic_segmentation.ipynb",
      "provenance": []
    },
    "kernelspec": {
      "display_name": "Python 3",
      "name": "python3"
    },
    "language_info": {
      "name": "python"
    }
  },
  "nbformat": 4,
  "nbformat_minor": 0
}