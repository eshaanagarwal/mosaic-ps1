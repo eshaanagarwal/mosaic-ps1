{
  "nbformat": 4,
  "nbformat_minor": 0,
  "metadata": {
    "colab": {
      "name": "Mosaic_letter.ipynb",
      "provenance": []
    },
    "kernelspec": {
      "name": "python3",
      "display_name": "Python 3"
    },
    "language_info": {
      "name": "python"
    },
    "accelerator": "GPU"
  },
  "cells": [
    {
      "cell_type": "code",
      "execution_count": null,
      "metadata": {
        "id": "6t2AsbUY33t8"
      },
      "outputs": [],
      "source": [
        "import numpy as np\n",
        "import pandas as pd\n",
        "import matplotlib.pyplot as plt\n",
        "import cv2\n",
        "import tensorflow as tf"
      ]
    },
    {
      "cell_type": "code",
      "source": [
        "%cd /content/drive/MyDrive/mosaic/\n",
        "root = \"/content/drive/MyDrive/mosaic/\""
      ],
      "metadata": {
        "colab": {
          "base_uri": "https://localhost:8080/"
        },
        "id": "LJ_-EOfK4GOK",
        "outputId": "ea7b76fc-5332-4391-d6a0-d1a9cddd15dd"
      },
      "execution_count": null,
      "outputs": [
        {
          "output_type": "stream",
          "name": "stdout",
          "text": [
            "/content/drive/MyDrive/mosaic\n"
          ]
        }
      ]
    },
    {
      "cell_type": "code",
      "source": [
        "#!unzip emnist-balanced-test.csv.zip\n",
        "#!unzip emnist-balanced-train.csv.zip\n",
        "#!unzip Emoji\\ Dataset-20220328T053226Z-001.zip"
      ],
      "metadata": {
        "id": "H-1E3pBX6R4Y"
      },
      "execution_count": null,
      "outputs": []
    },
    {
      "cell_type": "code",
      "source": [
        "mp = dict()\n",
        "for x in open(\"emnist-balanced-mapping.txt\", 'r'):\n",
        "  x = x.split(' ')\n",
        "  mp[int(x[0])] = chr(int(x[-1][:-1]))"
      ],
      "metadata": {
        "id": "rPsr2vPQDlQk"
      },
      "execution_count": null,
      "outputs": []
    },
    {
      "cell_type": "code",
      "source": [
        "mp.values()"
      ],
      "metadata": {
        "colab": {
          "base_uri": "https://localhost:8080/"
        },
        "id": "HroIBW3feICK",
        "outputId": "3eb80b4f-7cd2-49b3-ee90-39ea1d35ca80"
      },
      "execution_count": null,
      "outputs": [
        {
          "output_type": "execute_result",
          "data": {
            "text/plain": [
              "dict_values(['0', '1', '2', '3', '4', '5', '6', '7', '8', '9', 'A', 'B', 'C', 'D', 'E', 'F', 'G', 'H', 'I', 'J', 'K', 'L', 'M', 'N', 'O', 'P', 'Q', 'R', 'S', 'T', 'U', 'V', 'W', 'X', 'Y', 'Z', 'a', 'b', 'd', 'e', 'f', 'g', 'h', 'n', 'q', 'r', 't'])"
            ]
          },
          "metadata": {},
          "execution_count": 6
        }
      ]
    },
    {
      "cell_type": "code",
      "source": [
        "train_df = pd.read_csv('emnist-balanced-train.csv')\n",
        "test_df = pd.read_csv('emnist-balanced-test.csv')"
      ],
      "metadata": {
        "id": "U_HYVewl699Y"
      },
      "execution_count": null,
      "outputs": []
    },
    {
      "cell_type": "code",
      "source": [
        "train_df = train_df[train_df['45'] > 9]\n",
        "test_df = test_df[test_df['41'] > 9]\n",
        "#train_df['45'] = train_df['45'].map(mp)\n",
        "#test_df['41'] = test_df['41'].map(mp)\n",
        "train_df.rename(columns={'45':'target'}, inplace=True)\n",
        "test_df.rename(columns={'41':'target'}, inplace=True)"
      ],
      "metadata": {
        "id": "NcW2ljFA7rN5",
        "colab": {
          "base_uri": "https://localhost:8080/"
        },
        "outputId": "3e6e9821-d328-454d-cf5c-5436254cfb67"
      },
      "execution_count": null,
      "outputs": [
        {
          "output_type": "stream",
          "name": "stderr",
          "text": [
            "/usr/local/lib/python3.7/dist-packages/pandas/core/frame.py:5047: SettingWithCopyWarning: \n",
            "A value is trying to be set on a copy of a slice from a DataFrame\n",
            "\n",
            "See the caveats in the documentation: https://pandas.pydata.org/pandas-docs/stable/user_guide/indexing.html#returning-a-view-versus-a-copy\n",
            "  errors=errors,\n"
          ]
        }
      ]
    },
    {
      "cell_type": "code",
      "source": [
        "train_df.reset_index(drop=True, inplace=True)\n",
        "test_df.reset_index(drop=True, inplace=True)"
      ],
      "metadata": {
        "id": "fOC2n7LYN9HU"
      },
      "execution_count": null,
      "outputs": []
    },
    {
      "cell_type": "code",
      "source": [
        "i = 36\n",
        "print(mp[train_df.loc[i,'target']])\n",
        "plt.imshow(np.flip(np.rot90(train_df.loc[i,'0':].astype(int).values.reshape((28,28)), 3), 1))"
      ],
      "metadata": {
        "colab": {
          "base_uri": "https://localhost:8080/",
          "height": 302
        },
        "id": "4Erw_exXJwm5",
        "outputId": "ec196b18-68f8-419c-cce7-3c45971caac5"
      },
      "execution_count": null,
      "outputs": [
        {
          "output_type": "stream",
          "name": "stdout",
          "text": [
            "M\n"
          ]
        },
        {
          "output_type": "execute_result",
          "data": {
            "text/plain": [
              "<matplotlib.image.AxesImage at 0x7f632e85b4d0>"
            ]
          },
          "metadata": {},
          "execution_count": 10
        },
        {
          "output_type": "display_data",
          "data": {
            "text/plain": [
              "<Figure size 432x288 with 1 Axes>"
            ],
            "image/png": "[encoded data removed]"
          },
          "metadata": {
            "needs_background": "light"
          }
        }
      ]
    },
    {
      "cell_type": "code",
      "source": [
        "train_ds = tf.data.Dataset.from_tensor_slices((train_df.drop(columns='target').astype(float).values,train_df.target.values))\n",
        "test_ds = tf.data.Dataset.from_tensor_slices((test_df.drop(columns='target').astype(float).values,test_df.target.values))"
      ],
      "metadata": {
        "id": "677idnYeN1Yn"
      },
      "execution_count": null,
      "outputs": []
    },
    {
      "cell_type": "code",
      "source": [
        "def transform(x,y):\n",
        "  x = tf.image.flip_left_right(tf.image.rot90(tf.reshape(x,(28,28,1)), 3))\n",
        "  x = tf.image.resize(x, [100,100])\n",
        "  y = y - 10\n",
        "  return x,y\n",
        "\n",
        "def binarize(img, label, thresh=100):\n",
        "  return tf.where(img > thresh, 255, 0), label\n",
        "\n",
        "train_ds = train_ds.map(transform).map(binarize)\n",
        "test_ds = test_ds.map(transform).map(binarize)"
      ],
      "metadata": {
        "id": "mIMqccXQQTqG"
      },
      "execution_count": null,
      "outputs": []
    },
    {
      "cell_type": "code",
      "source": [
        "train_ds = train_ds.batch(batch_size=32)\n",
        "test_ds = test_ds.batch(batch_size=32)"
      ],
      "metadata": {
        "id": "vz5tmX5wbKYS"
      },
      "execution_count": null,
      "outputs": []
    },
    {
      "cell_type": "code",
      "source": [
        "augmentation = tf.keras.Sequential(\n",
        "    [\n",
        "     tf.keras.layers.RandomRotation((-0.2,0.2), fill_mode='constant', fill_value=0),\n",
        "     tf.keras.layers.RandomZoom(height_factor=(-0.3,0.3), width_factor=(-0.3,0.3), fill_mode='constant', fill_value=0),\n",
        "     tf.keras.layers.GaussianNoise(1)\n",
        "    ]\n",
        ")"
      ],
      "metadata": {
        "id": "G7E23wn2m1kP"
      },
      "execution_count": null,
      "outputs": []
    },
    {
      "cell_type": "code",
      "source": [
        "inp = tf.keras.layers.Input((100,100,1))\n",
        "#aug = augmentation(inp)\n",
        "norm = tf.keras.layers.Normalization()(inp)\n",
        "conv1 = tf.keras.layers.Conv2D(filters=32, kernel_size=5, padding='same', activation='relu')(norm)\n",
        "mp1 = tf.keras.layers.AveragePooling2D(pool_size=2)(conv1)\n",
        "conv2 = tf.keras.layers.Conv2D(filters=64, kernel_size=5, activation='relu')(mp1)\n",
        "mp2 = tf.keras.layers.AveragePooling2D(pool_size=2)(conv2)\n",
        "conv3 = tf.keras.layers.Conv2D(filters=128, kernel_size=5, activation='relu')(mp2)\n",
        "mp3 = tf.keras.layers.AveragePooling2D(pool_size=2)(conv3)\n",
        "dp = tf.keras.layers.Dropout(0.4)(mp3)\n",
        "flat = tf.keras.layers.Flatten()(dp)\n",
        "fc1 = tf.keras.layers.Dense(1024, activation='relu')(flat)\n",
        "fc2 = tf.keras.layers.Dense(512, activation='relu')(fc1)\n",
        "out = tf.keras.layers.Dense(len(mp)-10, activation='softmax')(fc2)"
      ],
      "metadata": {
        "id": "c8t_bi2EQvp2"
      },
      "execution_count": null,
      "outputs": []
    },
    {
      "cell_type": "code",
      "source": [
        "model = tf.keras.Model(inputs=inp, outputs=out)"
      ],
      "metadata": {
        "id": "jGynQSvFR3Rw"
      },
      "execution_count": null,
      "outputs": []
    },
    {
      "cell_type": "code",
      "source": [
        "model.summary()"
      ],
      "metadata": {
        "colab": {
          "base_uri": "https://localhost:8080/"
        },
        "id": "_MIYLcbkadQx",
        "outputId": "0c2cafa6-3f2c-45bc-a252-0011e5e2ab89"
      },
      "execution_count": null,
      "outputs": [
        {
          "output_type": "stream",
          "name": "stdout",
          "text": [
            "Model: \"model_1\"\n",
            "_________________________________________________________________\n",
            " Layer (type)                Output Shape              Param #   \n",
            "=================================================================\n",
            " input_2 (InputLayer)        [(None, 100, 100, 1)]     0         \n",
            "                                                                 \n",
            " normalization_1 (Normalizat  (None, 100, 100, 1)      3         \n",
            " ion)                                                            \n",
            "                                                                 \n",
            " conv2d_3 (Conv2D)           (None, 100, 100, 32)      832       \n",
            "                                                                 \n",
            " average_pooling2d_3 (Averag  (None, 50, 50, 32)       0         \n",
            " ePooling2D)                                                     \n",
            "                                                                 \n",
            " conv2d_4 (Conv2D)           (None, 46, 46, 64)        51264     \n",
            "                                                                 \n",
            " average_pooling2d_4 (Averag  (None, 23, 23, 64)       0         \n",
            " ePooling2D)                                                     \n",
            "                                                                 \n",
            " conv2d_5 (Conv2D)           (None, 19, 19, 128)       204928    \n",
            "                                                                 \n",
            " average_pooling2d_5 (Averag  (None, 9, 9, 128)        0         \n",
            " ePooling2D)                                                     \n",
            "                                                                 \n",
            " dropout_1 (Dropout)         (None, 9, 9, 128)         0         \n",
            "                                                                 \n",
            " flatten_1 (Flatten)         (None, 10368)             0         \n",
            "                                                                 \n",
            " dense_3 (Dense)             (None, 1024)              10617856  \n",
            "                                                                 \n",
            " dense_4 (Dense)             (None, 512)               524800    \n",
            "                                                                 \n",
            " dense_5 (Dense)             (None, 37)                18981     \n",
            "                                                                 \n",
            "=================================================================\n",
            "Total params: 11,418,664\n",
            "Trainable params: 11,418,661\n",
            "Non-trainable params: 3\n",
            "_________________________________________________________________\n"
          ]
        }
      ]
    },
    {
      "cell_type": "code",
      "source": [
        "loss_fn = tf.losses.SparseCategoricalCrossentropy(from_logits=False)\n",
        "model.compile(optimizer='adam', loss=loss_fn)"
      ],
      "metadata": {
        "id": "fu9e3SLnYFRb"
      },
      "execution_count": null,
      "outputs": []
    },
    {
      "cell_type": "code",
      "source": [
        "model.fit(train_ds, validation_data=test_ds, epochs=5)"
      ],
      "metadata": {
        "colab": {
          "base_uri": "https://localhost:8080/"
        },
        "id": "c3VyoQXFYPvv",
        "outputId": "a64b70fa-40ba-4c91-816b-fcb816aebf3f"
      },
      "execution_count": null,
      "outputs": [
        {
          "output_type": "stream",
          "name": "stdout",
          "text": [
            "Epoch 1/5\n",
            "2775/2775 [==============================] - 94s 34ms/step - loss: 0.6141 - val_loss: 0.3677\n",
            "Epoch 2/5\n",
            "2775/2775 [==============================] - 93s 34ms/step - loss: 0.3371 - val_loss: 0.3426\n",
            "Epoch 3/5\n",
            "2775/2775 [==============================] - 94s 34ms/step - loss: 0.2799 - val_loss: 0.3128\n",
            "Epoch 4/5\n",
            "2775/2775 [==============================] - 93s 33ms/step - loss: 0.2342 - val_loss: 0.3115\n",
            "Epoch 5/5\n",
            "2775/2775 [==============================] - 93s 33ms/step - loss: 0.2017 - val_loss: 0.3189\n"
          ]
        },
        {
          "output_type": "execute_result",
          "data": {
            "text/plain": [
              "<keras.callbacks.History at 0x7f62b42743d0>"
            ]
          },
          "metadata": {},
          "execution_count": 28
        }
      ]
    },
    {
      "cell_type": "code",
      "source": [
        "for img, real in test_ds.take(1):\n",
        "  i = 2\n",
        "  pred = np.argmax(model.predict(img),-1)+10\n",
        "  plt.imshow(img[i].numpy().squeeze(-1))\n",
        "  print('actual: ',mp[real.numpy()[i]+10],'\\npredicted: ',mp[pred[i]])"
      ],
      "metadata": {
        "colab": {
          "base_uri": "https://localhost:8080/",
          "height": 305
        },
        "id": "5m4vgVcNaVXU",
        "outputId": "f5cad476-7854-4bcb-fe65-fedf5e7702fc"
      },
      "execution_count": null,
      "outputs": [
        {
          "output_type": "stream",
          "name": "stdout",
          "text": [
            "actual:  q \n",
            "predicted:  q\n"
          ]
        },
        {
          "output_type": "display_data",
          "data": {
            "text/plain": [
              "<Figure size 432x288 with 1 Axes>"
            ],
            "image/png": "[encoded data removed]"
          },
          "metadata": {
            "needs_background": "light"
          }
        }
      ]
    },
    {
      "cell_type": "code",
      "source": [
        "m = tf.metrics.Accuracy()\n",
        "for img, real in test_ds:\n",
        "  pred = np.argmax(model.predict(img),-1)\n",
        "  m.update_state(real, pred)\n",
        "print(\"Accuracy: \",m.result().numpy())"
      ],
      "metadata": {
        "colab": {
          "base_uri": "https://localhost:8080/"
        },
        "id": "x0-394sgjCMr",
        "outputId": "d09e45a1-6e78-451c-a38d-c699fcf3fcb4"
      },
      "execution_count": null,
      "outputs": [
        {
          "output_type": "stream",
          "name": "stdout",
          "text": [
            "Accuracy:  0.9075613\n"
          ]
        }
      ]
    },
    {
      "cell_type": "code",
      "source": [
        "!mkdir letter_model\n",
        "model.save(root + \"letter_model/\")"
      ],
      "metadata": {
        "id": "AOOBW1Y8k2G9",
        "colab": {
          "base_uri": "https://localhost:8080/"
        },
        "outputId": "a67d0069-dcef-47e2-8fd2-de67ca41b4ba"
      },
      "execution_count": null,
      "outputs": [
        {
          "output_type": "stream",
          "name": "stdout",
          "text": [
            "INFO:tensorflow:Assets written to: /content/drive/MyDrive/mosaic/letter_model/assets\n"
          ]
        }
      ]
    },
    {
      "cell_type": "code",
      "source": [
        ""
      ],
      "metadata": {
        "id": "qFaIXYzPta1y"
      },
      "execution_count": null,
      "outputs": []
    }
  ]
}